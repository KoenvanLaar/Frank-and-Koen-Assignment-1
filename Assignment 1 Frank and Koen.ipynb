{
 "cells": [
  {
   "cell_type": "markdown",
   "metadata": {},
   "source": [
    "%matplotlib inline\n",
    "from preamble import *\n",
    "plt.rcParams['savefig.dpi'] = 100\n",
    "InteractiveShell.ast_node_interactivity = \"all\""
   ]
  },
  {
   "cell_type": "code",
   "execution_count": 1,
   "metadata": {
    "collapsed": true
   },
   "outputs": [],
   "source": [
    "%matplotlib inline\n",
    "from preamble import *\n",
    "plt.rcParams['savefig.dpi'] = 100\n",
    "InteractiveShell.ast_node_interactivity = \"all\""
   ]
  },
  {
   "cell_type": "code",
   "execution_count": 2,
   "metadata": {
    "collapsed": true
   },
   "outputs": [],
   "source": [
    "# This is a temporary read-only OpenML key. Replace with your own key later. I replaced it with my own key\n",
    "oml.config.apikey = '46c76cc89a9b46f9e43f3c4be1f2885e'"
   ]
  },
  {
   "cell_type": "code",
   "execution_count": 3,
   "metadata": {
    "collapsed": false,
    "scrolled": false
   },
   "outputs": [
    {
     "data": {
      "text/plain": [
       "<matplotlib.image.AxesImage at 0x19ada390>"
      ]
     },
     "execution_count": 3,
     "metadata": {},
     "output_type": "execute_result"
    },
    {
     "name": "stdout",
     "output_type": "stream",
     "text": [
      "Class label: 9\n"
     ]
    },
    {
     "data": {
      "application/pdf": "[encoded data removed]",
      "image/png": "[encoded data removed]",
      "text/plain": [
       "<matplotlib.figure.Figure at 0xc725320>"
      ]
     },
     "metadata": {},
     "output_type": "display_data"
    }
   ],
   "source": [
    "mnist_data = oml.datasets.get_dataset(554) # Download MNIST data\n",
    "X, y = mnist_data.get_data(target=mnist_data.default_target_attribute); # Get the predictors X and the labels y\n",
    "plt.imshow(X[4].reshape(28, 28), cmap=plt.cm.gray_r) # Take the first example, reshape to a 28x28 image and plot\n",
    "print(\"Class label:\",y[4]) # Print the correct class label"
   ]
  },
  {
   "cell_type": "code",
   "execution_count": 14,
   "metadata": {
    "collapsed": false
   },
   "outputs": [
    {
     "name": "stdout",
     "output_type": "stream",
     "text": [
      "<class 'numpy.ndarray'>\n",
      "<class 'numpy.ndarray'>\n"
     ]
    },
    {
     "data": {
      "text/plain": [
       "KNeighborsClassifier(algorithm='auto', leaf_size=30, metric='minkowski',\n",
       "           metric_params=None, n_jobs=1, n_neighbors=1, p=2,\n",
       "           weights='uniform')"
      ]
     },
     "execution_count": 14,
     "metadata": {},
     "output_type": "execute_result"
    },
    {
     "name": "stdout",
     "output_type": "stream",
     "text": [
      "Test set accuracy: 0.97\n"
     ]
    },
    {
     "data": {
      "text/plain": [
       "KNeighborsClassifier(algorithm='auto', leaf_size=30, metric='minkowski',\n",
       "           metric_params=None, n_jobs=1, n_neighbors=1, p=2,\n",
       "           weights='uniform')"
      ]
     },
     "execution_count": 14,
     "metadata": {},
     "output_type": "execute_result"
    },
    {
     "name": "stdout",
     "output_type": "stream",
     "text": [
      "Score: 0.97\n",
      "Score: 0.97\n"
     ]
    }
   ],
   "source": [
    "#READ THIS FIRST: Before executing this block, figure out how to take a subset of the mnist data set if trying new stuff.\n",
    "#Otherwise this will take ages. test set accuracy is 0.97 btw for the whole set that took 20 minutes or so to calculate\n",
    "\n",
    "from sklearn.model_selection import train_test_split # Importing splitting function to train and test model\n",
    "from sklearn.neighbors import KNeighborsClassifier   # Import kNN function\n",
    "#Perhaps do something like this to get only 10000 sets instead of the full 70000\n",
    "# subset = mnist_data[0: 10000:1]\n",
    "X, y = mnist_data.get_data(target=mnist_data.default_target_attribute)      #Maybe insert something here to only take 10% of the dataset\n",
    "print(type(X))\n",
    "print(type(y))\n",
    "X_small = X[:2000]\n",
    "y_small = y[:2000]\n",
    "#print(X_small)\n",
    "X_train, X_test, y_train, y_test = train_test_split(X, y, random_state=0)\n",
    "clf = KNeighborsClassifier(n_neighbors=1)           # Only 1 nearest neighbour\n",
    "clf.fit(X_train, y_train)\n",
    "\n",
    "print(\"Test set accuracy: %.2f\" % clf.score(X_test, y_test))\n",
    "\n",
    "#prediction = knn.predict(X_test)\n",
    "knn = KNeighborsClassifier(n_neighbors=1)\n",
    "knn.fit(X_train, y_train)\n",
    "y_pred = knn.predict(X_test)\n",
    "#Getting the score of our model on the test data.\n",
    "#Score is 0.97 and thus the same as the test accaracy which is interesting and might be an indicator of a error in our code.\n",
    "print(\"Score: {:.2f}\".format(knn.score(X_test, y_test)))\n"
   ]
  },
  {
   "cell_type": "code",
   "execution_count": 16,
   "metadata": {
    "collapsed": false
   },
   "outputs": [],
   "source": [
    "#Finding a few misclassification. But I do not know if those brackets are correct or not.\n",
    "\n",
    "j = 0\n",
    "for i in range(5):  #Take a look at 5 misclassifications\n",
    "    if y_pred[j] != y_test[j]: \n",
    "        plt.imshow(X[j].reshape(28, 28), cmap=plt.cm.gray_r)\n",
    "        print(\"Class label:\",y[j])\n",
    "        i += 1\n",
    "        j += 1\n",
    "    else:\n",
    "        j += 1"
   ]
  },
  {
   "cell_type": "code",
   "execution_count": null,
   "metadata": {
    "collapsed": true
   },
   "outputs": [],
   "source": [
    "# I copy pasted this from the introduction lecture, but i think this is correct, aside from perhaps a few things that need to be adapted\n",
    "# Build a list of the training and test scores for increasing k\n",
    "training_accuracy = []\n",
    "test_accuracy = []\n",
    "k = range(1, 11)   # testing 1 to 10 nearest neighbours\n",
    "\n",
    "for n_neighbors in k:\n",
    "    # build the model\n",
    "    clf = KNeighborsClassifier(n_neighbors=n_neighbors).fit(X_train, y_train)\n",
    "    # record training and test set accuracy\n",
    "    training_accuracy.append(clf.score(X_train, y_train))\n",
    "    test_accuracy.append(clf.score(X_test, y_test))\n",
    "    \n",
    "plt.plot(k, training_accuracy, label=\"training accuracy\")\n",
    "plt.plot(k, test_accuracy, label=\"test accuracy\")\n",
    "plt.ylabel(\"Accuracy\")\n",
    "plt.xlabel(\"n_neighbors\")\n",
    "_ = plt.legend()"
   ]
  }
 ],
 "metadata": {
  "kernelspec": {
   "display_name": "Python 3",
   "language": "python",
   "name": "python3"
  },
  "language_info": {
   "codemirror_mode": {
    "name": "ipython",
    "version": 3
   },
   "file_extension": ".py",
   "mimetype": "text/x-python",
   "name": "python",
   "nbconvert_exporter": "python",
   "pygments_lexer": "ipython3",
   "version": "3.6.0"
  }
 },
 "nbformat": 4,
 "nbformat_minor": 2
}
